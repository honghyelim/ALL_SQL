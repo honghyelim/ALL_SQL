{
  "nbformat": 4,
  "nbformat_minor": 0,
  "metadata": {
    "colab": {
      "name": "sqlite_2.ipynb",
      "provenance": [],
      "collapsed_sections": [],
      "authorship_tag": "ABX9TyN/gmxM5iyxKikfEOeWAMMp",
      "include_colab_link": true
    },
    "kernelspec": {
      "name": "python3",
      "display_name": "Python 3"
    },
    "language_info": {
      "name": "python"
    }
  },
  "cells": [
    {
      "cell_type": "markdown",
      "metadata": {
        "id": "view-in-github",
        "colab_type": "text"
      },
      "source": [
        "<a href=\"https://colab.research.google.com/github/honghyelim/ALL_SQL/blob/main/sqlite_2.ipynb\" target=\"_parent\"><img src=\"https://colab.research.google.com/assets/colab-badge.svg\" alt=\"Open In Colab\"/></a>"
      ]
    },
    {
      "cell_type": "markdown",
      "metadata": {
        "id": "AQRdWsd7tBHm"
      },
      "source": [
        "## sqlalchemy\n",
        "- 파이썬에서 사용가능한 ORM  \n",
        "- ORM은 객체와 관계를 연결해주는 것\n",
        "- 데이터 베이스의 데이터 <--매핑--> 객체 필드  \n"
      ]
    },
    {
      "cell_type": "code",
      "metadata": {
        "colab": {
          "base_uri": "https://localhost:8080/"
        },
        "id": "5c-ic2wrslba",
        "outputId": "6b319b50-c239-497f-814c-7ed72634a74c"
      },
      "source": [
        "#접속하기\n",
        "import sqlalchemy\n",
        "from sqlalchemy import create_engine\n",
        "engine = create_engine('sqlite:///:memory:', echo=True) #DB 정의\n",
        "engine.execute(\"select 1\").scalar() #엔진 연결"
      ],
      "execution_count": 23,
      "outputs": [
        {
          "output_type": "stream",
          "text": [
            "2021-07-06 03:07:24,737 INFO sqlalchemy.engine.Engine select 1\n",
            "2021-07-06 03:07:24,742 INFO sqlalchemy.engine.Engine [raw sql] ()\n"
          ],
          "name": "stdout"
        },
        {
          "output_type": "execute_result",
          "data": {
            "text/plain": [
              "1"
            ]
          },
          "metadata": {
            "tags": []
          },
          "execution_count": 23
        }
      ]
    },
    {
      "cell_type": "code",
      "metadata": {
        "id": "_8VRZj4ztsqw"
      },
      "source": [
        "#매핑 선언\n",
        "from sqlalchemy.ext.declarative import declarative_base\n",
        "Base = declarative_base()"
      ],
      "execution_count": 24,
      "outputs": []
    },
    {
      "cell_type": "code",
      "metadata": {
        "id": "57VA6dbauVXY"
      },
      "source": [
        "from sqlalchemy import Column, Integer, String\n",
        "\n",
        "class User(Base):\n",
        "    __tablename__ = 'users'                     #users 테이블 생성\n",
        "\n",
        "    id = Column(Integer, primary_key=True)      #컬럼\n",
        "    name = Column(String)\n",
        "    fullname = Column(String)\n",
        "    password = Column(String)\n",
        "\n",
        "    def __init__(self, name, fullname, password):\n",
        "        self.name = name\n",
        "        self.fullname = fullname\n",
        "        self.password = password\n",
        "\n",
        "    def __repr__(self):\n",
        "        return \"<User('%s', '%s', '%s')>\" % (self.name, self.fullname, self.password)"
      ],
      "execution_count": 25,
      "outputs": []
    },
    {
      "cell_type": "code",
      "metadata": {
        "colab": {
          "base_uri": "https://localhost:8080/",
          "height": 35
        },
        "id": "FIKhzXwKvw5k",
        "outputId": "5384fafc-d17f-411a-9280-25e9e42860a9"
      },
      "source": [
        "#인스턴스 만들기\n",
        "ed_user = User('haruair', 'Edward Kim', '1234')\n",
        "ed_user.name        # 'haruair'\n",
        "ed_user.password    # '1234'\n",
        "str(ed_user.id)     # 'None'"
      ],
      "execution_count": 15,
      "outputs": [
        {
          "output_type": "execute_result",
          "data": {
            "application/vnd.google.colaboratory.intrinsic+json": {
              "type": "string"
            },
            "text/plain": [
              "'None'"
            ]
          },
          "metadata": {
            "tags": []
          },
          "execution_count": 15
        }
      ]
    },
    {
      "cell_type": "code",
      "metadata": {
        "id": "C2LGuHwXvw8D"
      },
      "source": [
        "#세션 만들기\n",
        "from sqlalchemy.orm import sessionmaker\n",
        "Session = sessionmaker(bind=engine)"
      ],
      "execution_count": 16,
      "outputs": []
    },
    {
      "cell_type": "code",
      "metadata": {
        "id": "xBNvKibzvw-G"
      },
      "source": [
        "Session = sessionmaker()\n",
        "Session.configure(bind=engine)\n",
        "session = Session()"
      ],
      "execution_count": 17,
      "outputs": []
    },
    {
      "cell_type": "code",
      "metadata": {
        "id": "G17H8X8ZxoJ7"
      },
      "source": [
        "#새 객체 추가하기\n",
        "ed_user= User('haruair', 'Edward Kim', '1234')\n",
        "session.add(ed_user)"
      ],
      "execution_count": 18,
      "outputs": []
    },
    {
      "cell_type": "code",
      "metadata": {
        "id": "s12z_IAsxoQz"
      },
      "source": [
        "session.add_all([\n",
        "    User('wendy', 'Wendy Williams', 'foobar'),\n",
        "    User('mary', 'Mary Contrary', 'xxg527'),\n",
        "    User('fred', 'Fred Flinstone', 'blar')])"
      ],
      "execution_count": 29,
      "outputs": []
    },
    {
      "cell_type": "code",
      "metadata": {
        "colab": {
          "base_uri": "https://localhost:8080/"
        },
        "id": "v4uBsDsLuU8w",
        "outputId": "15fffd15-61e8-4717-e923-829fc1987736"
      },
      "source": [
        "#두번째 예시\n",
        "class Movie(Base):\n",
        "    __tablename__ = 'movies'\n",
        "    id = Column(Integer, primary_key=True)\n",
        "    date = Column(Integer)\n",
        "    rank = Column(Integer)\n",
        "    movieNm = Column(String(30))\n",
        "    movieCd = Column(Integer)\n",
        "    salesAmt = Column(Integer)\n",
        "    audiCnt = Column(Integer)\n",
        "\n",
        "Movie.__table__.create(bind=engine, checkfirst=True)"
      ],
      "execution_count": 9,
      "outputs": [
        {
          "output_type": "stream",
          "text": [
            "2021-07-06 02:51:08,076 INFO sqlalchemy.engine.Engine BEGIN (implicit)\n",
            "2021-07-06 02:51:08,079 INFO sqlalchemy.engine.Engine PRAGMA main.table_info(\"movies\")\n",
            "2021-07-06 02:51:08,082 INFO sqlalchemy.engine.Engine [raw sql] ()\n",
            "2021-07-06 02:51:08,085 INFO sqlalchemy.engine.Engine PRAGMA temp.table_info(\"movies\")\n",
            "2021-07-06 02:51:08,087 INFO sqlalchemy.engine.Engine [raw sql] ()\n",
            "2021-07-06 02:51:08,092 INFO sqlalchemy.engine.Engine \n",
            "CREATE TABLE movies (\n",
            "\tid INTEGER NOT NULL, \n",
            "\tdate INTEGER, \n",
            "\trank INTEGER, \n",
            "\t\"movieNm\" VARCHAR(30), \n",
            "\t\"movieCd\" INTEGER, \n",
            "\t\"salesAmt\" INTEGER, \n",
            "\t\"audiCnt\" INTEGER, \n",
            "\tPRIMARY KEY (id)\n",
            ")\n",
            "\n",
            "\n",
            "2021-07-06 02:51:08,095 INFO sqlalchemy.engine.Engine [no key 0.00264s] ()\n",
            "2021-07-06 02:51:08,097 INFO sqlalchemy.engine.Engine COMMIT\n"
          ],
          "name": "stdout"
        }
      ]
    },
    {
      "cell_type": "code",
      "metadata": {
        "id": "CyFcr52zvhVJ"
      },
      "source": [
        "#세션 생성 및 엔진 연결\n",
        "from sqlalchemy.orm import sessionmaker\n",
        "Session = sessionmaker(bind=engine)\n",
        "session = Session()"
      ],
      "execution_count": 11,
      "outputs": []
    },
    {
      "cell_type": "code",
      "metadata": {
        "colab": {
          "base_uri": "https://localhost:8080/"
        },
        "id": "YnvZFIzsuiGk",
        "outputId": "3fe681f9-a2e0-4224-cea4-cc7eb392d2ef"
      },
      "source": [
        "#데이터 인서트\n",
        "movie_list=Movie(date=20190625, rank=1, movieNm='토이 스토리4', movieCd=12345, salesAmt=1234545123,audiCnt=342)\n",
        "\n",
        "session.add(movie_list)\n",
        "session.commit()"
      ],
      "execution_count": 12,
      "outputs": [
        {
          "output_type": "stream",
          "text": [
            "2021-07-06 02:56:52,497 INFO sqlalchemy.engine.Engine BEGIN (implicit)\n",
            "2021-07-06 02:56:52,512 INFO sqlalchemy.engine.Engine INSERT INTO movies (date, rank, \"movieNm\", \"movieCd\", \"salesAmt\", \"audiCnt\") VALUES (?, ?, ?, ?, ?, ?)\n",
            "2021-07-06 02:56:52,520 INFO sqlalchemy.engine.Engine [generated in 0.00705s] (20190625, 1, '토이 스토리4', 12345, 1234545123, 342)\n",
            "2021-07-06 02:56:52,526 INFO sqlalchemy.engine.Engine COMMIT\n"
          ],
          "name": "stdout"
        }
      ]
    },
    {
      "cell_type": "code",
      "metadata": {
        "colab": {
          "base_uri": "https://localhost:8080/"
        },
        "id": "ozlaTE-Cv73R",
        "outputId": "7bbd65e1-c7af-43a4-9022-95f24dd0e2be"
      },
      "source": [
        "result = session.query(Movie).all()\n",
        "for row in result:\n",
        "  print(row.date,row.rank,row.movieNm,row.movieCd,row.salesAmt,row.audiCnt)"
      ],
      "execution_count": 14,
      "outputs": [
        {
          "output_type": "stream",
          "text": [
            "2021-07-06 02:57:56,368 INFO sqlalchemy.engine.Engine BEGIN (implicit)\n",
            "2021-07-06 02:57:56,378 INFO sqlalchemy.engine.Engine SELECT movies.id AS movies_id, movies.date AS movies_date, movies.rank AS movies_rank, movies.\"movieNm\" AS \"movies_movieNm\", movies.\"movieCd\" AS \"movies_movieCd\", movies.\"salesAmt\" AS \"movies_salesAmt\", movies.\"audiCnt\" AS \"movies_audiCnt\" \n",
            "FROM movies\n",
            "2021-07-06 02:57:56,382 INFO sqlalchemy.engine.Engine [generated in 0.00401s] ()\n",
            "20190625 1 토이 스토리4 12345 1234545123 342\n"
          ],
          "name": "stdout"
        }
      ]
    }
  ]
}