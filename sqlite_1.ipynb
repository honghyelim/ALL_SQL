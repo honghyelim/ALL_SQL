{
  "nbformat": 4,
  "nbformat_minor": 0,
  "metadata": {
    "colab": {
      "name": "sqlite_1.ipynb",
      "provenance": [],
      "collapsed_sections": [],
      "authorship_tag": "ABX9TyOxujOheUZXKJ/nmkh23U4+",
      "include_colab_link": true
    },
    "kernelspec": {
      "name": "python3",
      "display_name": "Python 3"
    },
    "language_info": {
      "name": "python"
    }
  },
  "cells": [
    {
      "cell_type": "markdown",
      "metadata": {
        "id": "view-in-github",
        "colab_type": "text"
      },
      "source": [
        "<a href=\"https://colab.research.google.com/github/honghyelim/ALL_SQL/blob/main/sqlite_1.ipynb\" target=\"_parent\"><img src=\"https://colab.research.google.com/assets/colab-badge.svg\" alt=\"Open In Colab\"/></a>"
      ]
    },
    {
      "cell_type": "code",
      "metadata": {
        "id": "CfW6m0NMkBJR"
      },
      "source": [
        "import sqlite3"
      ],
      "execution_count": 38,
      "outputs": []
    },
    {
      "cell_type": "code",
      "metadata": {
        "colab": {
          "base_uri": "https://localhost:8080/"
        },
        "id": "WkKIhBGCnX6y",
        "outputId": "4ad5fdaa-eae8-4799-935a-a7c37a6be375"
      },
      "source": [
        "conn = sqlite3.connect(\"employee.db\")\n",
        "cur = conn.cursor()\n",
        "#테이블 생성\n",
        "conn.execute('CREATE TABLE employee_data(id INTEGER, name TEXT, nickname TEXT, department TEXT, employment_date TEXT)')"
      ],
      "execution_count": 39,
      "outputs": [
        {
          "output_type": "execute_result",
          "data": {
            "text/plain": [
              "<sqlite3.Cursor at 0x7f94c52332d0>"
            ]
          },
          "metadata": {
            "tags": []
          },
          "execution_count": 39
        }
      ]
    },
    {
      "cell_type": "code",
      "metadata": {
        "colab": {
          "base_uri": "https://localhost:8080/"
        },
        "id": "fgfJI3FUlEyj",
        "outputId": "b29e43ff-c982-4e3f-a5c8-e7bdfa997122"
      },
      "source": [
        "cur.executemany( 'INSERT INTO employee_data VALUES (?, ?, ?, ?, ?)', \n",
        "                [(1001, 'Donghyun', 'SOMJANG', 'Development', '2020-04-01 00:00:00.000'), \n",
        "                 (2001, 'Sol', 'Fairy', 'Marketing', '2020-04-01 00:00:00.000'), \n",
        "                 (2002, 'Jiyoung', 'Magician', 'Marketing', '2020-04-01 00:00:00.000'),\n",
        "                 (1002, 'Hyeona', 'Theif', 'Development', '2020-04-01 00:00:00.000'), \n",
        "                 (1003, 'Soyoung', 'Chief', 'Development', '2020-04-01 00:00:00.000') ] )"
      ],
      "execution_count": 40,
      "outputs": [
        {
          "output_type": "execute_result",
          "data": {
            "text/plain": [
              "<sqlite3.Cursor at 0x7f94c5271ce0>"
            ]
          },
          "metadata": {
            "tags": []
          },
          "execution_count": 40
        }
      ]
    },
    {
      "cell_type": "code",
      "metadata": {
        "id": "Nqay4o6dlH8J"
      },
      "source": [
        "conn.commit()"
      ],
      "execution_count": 41,
      "outputs": []
    },
    {
      "cell_type": "code",
      "metadata": {
        "colab": {
          "base_uri": "https://localhost:8080/"
        },
        "id": "WuEmq_T3lJcd",
        "outputId": "c13a9a5d-89c5-4df7-f26d-02e463177dae"
      },
      "source": [
        "conn = sqlite3.connect(\"employee.db\")        #employee db에 연결\n",
        "cur = conn.cursor() \n",
        "cur.execute(\"SELECT * FROM employee_data\")   #SELECT 쿼리 실행\n",
        "rows = cur.fetchall()                        #모든 결과의 행을 리스트로 가져옴\n",
        "for row in rows: \n",
        "  print(row)                                 #한줄씩 실행"
      ],
      "execution_count": 42,
      "outputs": [
        {
          "output_type": "stream",
          "text": [
            "(1001, 'Donghyun', 'SOMJANG', 'Development', '2020-04-01 00:00:00.000')\n",
            "(2001, 'Sol', 'Fairy', 'Marketing', '2020-04-01 00:00:00.000')\n",
            "(2002, 'Jiyoung', 'Magician', 'Marketing', '2020-04-01 00:00:00.000')\n",
            "(1002, 'Hyeona', 'Theif', 'Development', '2020-04-01 00:00:00.000')\n",
            "(1003, 'Soyoung', 'Chief', 'Development', '2020-04-01 00:00:00.000')\n"
          ],
          "name": "stdout"
        }
      ]
    },
    {
      "cell_type": "code",
      "metadata": {
        "colab": {
          "base_uri": "https://localhost:8080/"
        },
        "id": "ilD-iLk9lYBf",
        "outputId": "eea0d568-8f9e-4614-98ce-de97ebbe8bf0"
      },
      "source": [
        "#쿼리문 변경하여 원하는 값 가져오기\n",
        "cur.execute(\"SELECT name, department FROM employee_data WHERE employee_data.id > 2000\")"
      ],
      "execution_count": 43,
      "outputs": [
        {
          "output_type": "execute_result",
          "data": {
            "text/plain": [
              "<sqlite3.Cursor at 0x7f94c5271e30>"
            ]
          },
          "metadata": {
            "tags": []
          },
          "execution_count": 43
        }
      ]
    },
    {
      "cell_type": "code",
      "metadata": {
        "colab": {
          "base_uri": "https://localhost:8080/"
        },
        "id": "l3DcuyTgnFzX",
        "outputId": "ffcb1e16-4061-47d4-86dd-c1245c04e8fa"
      },
      "source": [
        "rows = cur.fetchall()            \n",
        "for row in rows: \n",
        "  print(row)"
      ],
      "execution_count": 44,
      "outputs": [
        {
          "output_type": "stream",
          "text": [
            "('Sol', 'Marketing')\n",
            "('Jiyoung', 'Marketing')\n"
          ],
          "name": "stdout"
        }
      ]
    },
    {
      "cell_type": "code",
      "metadata": {
        "colab": {
          "base_uri": "https://localhost:8080/"
        },
        "id": "JZ6_DTb9nF12",
        "outputId": "145111bd-7136-4f35-f047-6a9894d45404"
      },
      "source": [
        "cur.execute(\"SELECT nickname FROM employee_data WHERE employee_data.name == 'Donghyun'\")"
      ],
      "execution_count": 45,
      "outputs": [
        {
          "output_type": "execute_result",
          "data": {
            "text/plain": [
              "<sqlite3.Cursor at 0x7f94c5271e30>"
            ]
          },
          "metadata": {
            "tags": []
          },
          "execution_count": 45
        }
      ]
    },
    {
      "cell_type": "code",
      "metadata": {
        "colab": {
          "base_uri": "https://localhost:8080/"
        },
        "id": "qedK4XNYpW5Z",
        "outputId": "2995939a-a1b1-46a6-f631-72571e8c5188"
      },
      "source": [
        "cur.fetchall()       "
      ],
      "execution_count": 46,
      "outputs": [
        {
          "output_type": "execute_result",
          "data": {
            "text/plain": [
              "[('SOMJANG',)]"
            ]
          },
          "metadata": {
            "tags": []
          },
          "execution_count": 46
        }
      ]
    },
    {
      "cell_type": "code",
      "metadata": {
        "colab": {
          "base_uri": "https://localhost:8080/",
          "height": 204
        },
        "id": "dC43xpsDpZKC",
        "outputId": "51607bba-d311-4cc5-fe3d-2aeb6469e119"
      },
      "source": [
        "#모든 데이터를 DataFrame 형태로 출력하기\n",
        "import pandas as pd\n",
        "conn = sqlite3.connect('employee.db')\n",
        "cur = conn.cursor()\n",
        "cur.execute(\"SELECT * FROM employee_data\")\n",
        "rows = cur.fetchall()                             #행 데이터 불러오기\n",
        "cols = [column[0] for column in cur.description]  #열 이름 가져오기 \n",
        "data_df = pd.DataFrame.from_records(data = rows, columns = cols)\n",
        "data_df"
      ],
      "execution_count": 47,
      "outputs": [
        {
          "output_type": "execute_result",
          "data": {
            "text/html": [
              "<div>\n",
              "<style scoped>\n",
              "    .dataframe tbody tr th:only-of-type {\n",
              "        vertical-align: middle;\n",
              "    }\n",
              "\n",
              "    .dataframe tbody tr th {\n",
              "        vertical-align: top;\n",
              "    }\n",
              "\n",
              "    .dataframe thead th {\n",
              "        text-align: right;\n",
              "    }\n",
              "</style>\n",
              "<table border=\"1\" class=\"dataframe\">\n",
              "  <thead>\n",
              "    <tr style=\"text-align: right;\">\n",
              "      <th></th>\n",
              "      <th>id</th>\n",
              "      <th>name</th>\n",
              "      <th>nickname</th>\n",
              "      <th>department</th>\n",
              "      <th>employment_date</th>\n",
              "    </tr>\n",
              "  </thead>\n",
              "  <tbody>\n",
              "    <tr>\n",
              "      <th>0</th>\n",
              "      <td>1001</td>\n",
              "      <td>Donghyun</td>\n",
              "      <td>SOMJANG</td>\n",
              "      <td>Development</td>\n",
              "      <td>2020-04-01 00:00:00.000</td>\n",
              "    </tr>\n",
              "    <tr>\n",
              "      <th>1</th>\n",
              "      <td>2001</td>\n",
              "      <td>Sol</td>\n",
              "      <td>Fairy</td>\n",
              "      <td>Marketing</td>\n",
              "      <td>2020-04-01 00:00:00.000</td>\n",
              "    </tr>\n",
              "    <tr>\n",
              "      <th>2</th>\n",
              "      <td>2002</td>\n",
              "      <td>Jiyoung</td>\n",
              "      <td>Magician</td>\n",
              "      <td>Marketing</td>\n",
              "      <td>2020-04-01 00:00:00.000</td>\n",
              "    </tr>\n",
              "    <tr>\n",
              "      <th>3</th>\n",
              "      <td>1002</td>\n",
              "      <td>Hyeona</td>\n",
              "      <td>Theif</td>\n",
              "      <td>Development</td>\n",
              "      <td>2020-04-01 00:00:00.000</td>\n",
              "    </tr>\n",
              "    <tr>\n",
              "      <th>4</th>\n",
              "      <td>1003</td>\n",
              "      <td>Soyoung</td>\n",
              "      <td>Chief</td>\n",
              "      <td>Development</td>\n",
              "      <td>2020-04-01 00:00:00.000</td>\n",
              "    </tr>\n",
              "  </tbody>\n",
              "</table>\n",
              "</div>"
            ],
            "text/plain": [
              "     id      name  nickname   department          employment_date\n",
              "0  1001  Donghyun   SOMJANG  Development  2020-04-01 00:00:00.000\n",
              "1  2001       Sol     Fairy    Marketing  2020-04-01 00:00:00.000\n",
              "2  2002   Jiyoung  Magician    Marketing  2020-04-01 00:00:00.000\n",
              "3  1002    Hyeona     Theif  Development  2020-04-01 00:00:00.000\n",
              "4  1003   Soyoung     Chief  Development  2020-04-01 00:00:00.000"
            ]
          },
          "metadata": {
            "tags": []
          },
          "execution_count": 47
        }
      ]
    },
    {
      "cell_type": "code",
      "metadata": {
        "id": "izFwLBRwpkh_"
      },
      "source": [
        "#Table 삭제 하기\n",
        "conn = sqlite3.connect(\"employee.db\") \n",
        "cur = conn.cursor()\n",
        "conn.execute('DROP TABLE employee_data')\n",
        "conn.close()"
      ],
      "execution_count": 48,
      "outputs": []
    }
  ]
}